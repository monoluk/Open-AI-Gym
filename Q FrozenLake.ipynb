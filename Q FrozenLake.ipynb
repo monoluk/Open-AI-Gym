{
 "cells": [
  {
   "cell_type": "code",
   "execution_count": 1,
   "metadata": {},
   "outputs": [
    {
     "name": "stdout",
     "output_type": "stream",
     "text": [
      "Requirement already satisfied: gym in /Users/yelu/anaconda3/lib/python3.7/site-packages (0.13.1)\n",
      "Requirement already satisfied: numpy>=1.10.4 in /Users/yelu/anaconda3/lib/python3.7/site-packages (from gym) (1.16.2)\n",
      "Requirement already satisfied: cloudpickle~=1.2.0 in /Users/yelu/anaconda3/lib/python3.7/site-packages (from gym) (1.2.1)\n",
      "Requirement already satisfied: pyglet<=1.3.2,>=1.2.0 in /Users/yelu/anaconda3/lib/python3.7/site-packages (from gym) (1.3.2)\n",
      "Requirement already satisfied: six in /Users/yelu/anaconda3/lib/python3.7/site-packages (from gym) (1.12.0)\n",
      "Requirement already satisfied: scipy in /Users/yelu/anaconda3/lib/python3.7/site-packages (from gym) (1.2.1)\n",
      "Requirement already satisfied: future in /Users/yelu/anaconda3/lib/python3.7/site-packages (from pyglet<=1.3.2,>=1.2.0->gym) (0.17.1)\n"
     ]
    }
   ],
   "source": [
    "!pip install gym"
   ]
  },
  {
   "cell_type": "code",
   "execution_count": 2,
   "metadata": {
    "scrolled": true
   },
   "outputs": [
    {
     "name": "stdout",
     "output_type": "stream",
     "text": [
      "Requirement already satisfied: spyder in /Users/yelu/anaconda3/lib/python3.7/site-packages (3.3.3)\n",
      "Requirement already satisfied: pycodestyle in /Users/yelu/anaconda3/lib/python3.7/site-packages (from spyder) (2.5.0)\n",
      "Requirement already satisfied: pyqt5<=5.12; python_version >= \"3\" in /Users/yelu/anaconda3/lib/python3.7/site-packages (from spyder) (5.12)\n",
      "Requirement already satisfied: psutil in /Users/yelu/anaconda3/lib/python3.7/site-packages (from spyder) (5.6.1)\n",
      "Requirement already satisfied: keyring; sys_platform != \"linux2\" in /Users/yelu/anaconda3/lib/python3.7/site-packages (from spyder) (18.0.0)\n",
      "Requirement already satisfied: pylint in /Users/yelu/anaconda3/lib/python3.7/site-packages (from spyder) (2.3.1)\n",
      "Requirement already satisfied: qtconsole>=4.2.0 in /Users/yelu/anaconda3/lib/python3.7/site-packages (from spyder) (4.4.3)\n",
      "Requirement already satisfied: jedi>=0.9.0 in /Users/yelu/anaconda3/lib/python3.7/site-packages (from spyder) (0.13.3)\n",
      "Requirement already satisfied: numpydoc in /Users/yelu/anaconda3/lib/python3.7/site-packages (from spyder) (0.8.0)\n",
      "Requirement already satisfied: cloudpickle in /Users/yelu/anaconda3/lib/python3.7/site-packages (from spyder) (1.2.1)\n",
      "Requirement already satisfied: pyflakes in /Users/yelu/anaconda3/lib/python3.7/site-packages (from spyder) (2.1.1)\n",
      "Requirement already satisfied: chardet>=2.0.0 in /Users/yelu/anaconda3/lib/python3.7/site-packages (from spyder) (3.0.4)\n",
      "Requirement already satisfied: qtawesome>=0.4.1 in /Users/yelu/anaconda3/lib/python3.7/site-packages (from spyder) (0.5.7)\n",
      "Requirement already satisfied: pyzmq in /Users/yelu/anaconda3/lib/python3.7/site-packages (from spyder) (18.0.0)\n",
      "Requirement already satisfied: spyder-kernels<1.0,>=0.4.2 in /Users/yelu/anaconda3/lib/python3.7/site-packages (from spyder) (0.4.2)\n",
      "Requirement already satisfied: sphinx in /Users/yelu/anaconda3/lib/python3.7/site-packages (from spyder) (1.8.5)\n",
      "Requirement already satisfied: nbconvert in /Users/yelu/anaconda3/lib/python3.7/site-packages (from spyder) (5.4.1)\n",
      "Requirement already satisfied: qtpy>=1.5.0 in /Users/yelu/anaconda3/lib/python3.7/site-packages (from spyder) (1.7.0)\n",
      "Requirement already satisfied: rope>=0.10.5 in /Users/yelu/anaconda3/lib/python3.7/site-packages (from spyder) (0.12.0)\n",
      "Requirement already satisfied: pickleshare in /Users/yelu/anaconda3/lib/python3.7/site-packages (from spyder) (0.7.5)\n",
      "Requirement already satisfied: pygments>=2.0 in /Users/yelu/anaconda3/lib/python3.7/site-packages (from spyder) (2.3.1)\n",
      "Requirement already satisfied: PyQt5_sip<4.20,>=4.19.14 in /Users/yelu/anaconda3/lib/python3.7/site-packages (from pyqt5<=5.12; python_version >= \"3\"->spyder) (4.19.18)\n",
      "Requirement already satisfied: entrypoints in /Users/yelu/anaconda3/lib/python3.7/site-packages (from keyring; sys_platform != \"linux2\"->spyder) (0.3)\n",
      "Requirement already satisfied: astroid<3,>=2.2.0 in /Users/yelu/anaconda3/lib/python3.7/site-packages (from pylint->spyder) (2.2.5)\n",
      "Requirement already satisfied: isort<5,>=4.2.5 in /Users/yelu/anaconda3/lib/python3.7/site-packages (from pylint->spyder) (4.3.16)\n",
      "Requirement already satisfied: mccabe<0.7,>=0.6 in /Users/yelu/anaconda3/lib/python3.7/site-packages (from pylint->spyder) (0.6.1)\n",
      "Requirement already satisfied: traitlets in /Users/yelu/anaconda3/lib/python3.7/site-packages (from qtconsole>=4.2.0->spyder) (4.3.2)\n",
      "Requirement already satisfied: ipython_genutils in /Users/yelu/anaconda3/lib/python3.7/site-packages (from qtconsole>=4.2.0->spyder) (0.2.0)\n",
      "Requirement already satisfied: jupyter_core in /Users/yelu/anaconda3/lib/python3.7/site-packages (from qtconsole>=4.2.0->spyder) (4.4.0)\n",
      "Requirement already satisfied: jupyter_client>=4.1 in /Users/yelu/anaconda3/lib/python3.7/site-packages (from qtconsole>=4.2.0->spyder) (5.2.4)\n",
      "Requirement already satisfied: ipykernel>=4.1 in /Users/yelu/anaconda3/lib/python3.7/site-packages (from qtconsole>=4.2.0->spyder) (5.1.0)\n",
      "Requirement already satisfied: parso>=0.3.0 in /Users/yelu/anaconda3/lib/python3.7/site-packages (from jedi>=0.9.0->spyder) (0.3.4)\n",
      "Requirement already satisfied: Jinja2>=2.3 in /Users/yelu/anaconda3/lib/python3.7/site-packages (from numpydoc->spyder) (2.10)\n",
      "Requirement already satisfied: six in /Users/yelu/anaconda3/lib/python3.7/site-packages (from qtawesome>=0.4.1->spyder) (1.12.0)\n",
      "Requirement already satisfied: wurlitzer; platform_system != \"Windows\" in /Users/yelu/anaconda3/lib/python3.7/site-packages (from spyder-kernels<1.0,>=0.4.2->spyder) (1.0.2)\n",
      "Requirement already satisfied: docutils>=0.11 in /Users/yelu/anaconda3/lib/python3.7/site-packages (from sphinx->spyder) (0.14)\n",
      "Requirement already satisfied: snowballstemmer>=1.1 in /Users/yelu/anaconda3/lib/python3.7/site-packages (from sphinx->spyder) (1.2.1)\n",
      "Requirement already satisfied: babel!=2.0,>=1.3 in /Users/yelu/anaconda3/lib/python3.7/site-packages (from sphinx->spyder) (2.6.0)\n",
      "Requirement already satisfied: alabaster<0.8,>=0.7 in /Users/yelu/anaconda3/lib/python3.7/site-packages (from sphinx->spyder) (0.7.12)\n",
      "Requirement already satisfied: imagesize in /Users/yelu/anaconda3/lib/python3.7/site-packages (from sphinx->spyder) (1.1.0)\n",
      "Requirement already satisfied: requests>=2.0.0 in /Users/yelu/anaconda3/lib/python3.7/site-packages (from sphinx->spyder) (2.21.0)\n",
      "Requirement already satisfied: setuptools in /Users/yelu/anaconda3/lib/python3.7/site-packages (from sphinx->spyder) (40.8.0)\n",
      "Requirement already satisfied: packaging in /Users/yelu/anaconda3/lib/python3.7/site-packages (from sphinx->spyder) (19.0)\n",
      "Requirement already satisfied: sphinxcontrib-websupport in /Users/yelu/anaconda3/lib/python3.7/site-packages (from sphinx->spyder) (1.1.0)\n",
      "Requirement already satisfied: mistune>=0.8.1 in /Users/yelu/anaconda3/lib/python3.7/site-packages (from nbconvert->spyder) (0.8.4)\n",
      "Requirement already satisfied: nbformat>=4.4 in /Users/yelu/anaconda3/lib/python3.7/site-packages (from nbconvert->spyder) (4.4.0)\n",
      "Requirement already satisfied: bleach in /Users/yelu/anaconda3/lib/python3.7/site-packages (from nbconvert->spyder) (3.1.0)\n",
      "Requirement already satisfied: pandocfilters>=1.4.1 in /Users/yelu/anaconda3/lib/python3.7/site-packages (from nbconvert->spyder) (1.4.2)\n",
      "Requirement already satisfied: testpath in /Users/yelu/anaconda3/lib/python3.7/site-packages (from nbconvert->spyder) (0.4.2)\n",
      "Requirement already satisfied: defusedxml in /Users/yelu/anaconda3/lib/python3.7/site-packages (from nbconvert->spyder) (0.5.0)\n",
      "Requirement already satisfied: typed-ast>=1.3.0; implementation_name == \"cpython\" in /Users/yelu/anaconda3/lib/python3.7/site-packages (from astroid<3,>=2.2.0->pylint->spyder) (1.4.0)\n",
      "Requirement already satisfied: wrapt in /Users/yelu/anaconda3/lib/python3.7/site-packages (from astroid<3,>=2.2.0->pylint->spyder) (1.11.1)\n",
      "Requirement already satisfied: lazy-object-proxy in /Users/yelu/anaconda3/lib/python3.7/site-packages (from astroid<3,>=2.2.0->pylint->spyder) (1.3.1)\n",
      "Requirement already satisfied: decorator in /Users/yelu/anaconda3/lib/python3.7/site-packages (from traitlets->qtconsole>=4.2.0->spyder) (4.4.0)\n",
      "Requirement already satisfied: tornado>=4.1 in /Users/yelu/anaconda3/lib/python3.7/site-packages (from jupyter_client>=4.1->qtconsole>=4.2.0->spyder) (6.0.2)\n",
      "Requirement already satisfied: python-dateutil>=2.1 in /Users/yelu/anaconda3/lib/python3.7/site-packages (from jupyter_client>=4.1->qtconsole>=4.2.0->spyder) (2.8.0)\n",
      "Requirement already satisfied: ipython>=5.0.0 in /Users/yelu/anaconda3/lib/python3.7/site-packages (from ipykernel>=4.1->qtconsole>=4.2.0->spyder) (7.4.0)\n",
      "Requirement already satisfied: MarkupSafe>=0.23 in /Users/yelu/anaconda3/lib/python3.7/site-packages (from Jinja2>=2.3->numpydoc->spyder) (1.1.1)\n",
      "Requirement already satisfied: pytz>=0a in /Users/yelu/anaconda3/lib/python3.7/site-packages (from babel!=2.0,>=1.3->sphinx->spyder) (2018.9)\n",
      "Requirement already satisfied: idna<2.9,>=2.5 in /Users/yelu/anaconda3/lib/python3.7/site-packages (from requests>=2.0.0->sphinx->spyder) (2.8)\n",
      "Requirement already satisfied: urllib3<1.25,>=1.21.1 in /Users/yelu/anaconda3/lib/python3.7/site-packages (from requests>=2.0.0->sphinx->spyder) (1.24.1)\n",
      "Requirement already satisfied: certifi>=2017.4.17 in /Users/yelu/anaconda3/lib/python3.7/site-packages (from requests>=2.0.0->sphinx->spyder) (2019.3.9)\n",
      "Requirement already satisfied: pyparsing>=2.0.2 in /Users/yelu/anaconda3/lib/python3.7/site-packages (from packaging->sphinx->spyder) (2.3.1)\n",
      "Requirement already satisfied: jsonschema!=2.5.0,>=2.4 in /Users/yelu/anaconda3/lib/python3.7/site-packages (from nbformat>=4.4->nbconvert->spyder) (3.0.1)\n",
      "Requirement already satisfied: webencodings in /Users/yelu/anaconda3/lib/python3.7/site-packages (from bleach->nbconvert->spyder) (0.5.1)\n",
      "Requirement already satisfied: pexpect; sys_platform != \"win32\" in /Users/yelu/anaconda3/lib/python3.7/site-packages (from ipython>=5.0.0->ipykernel>=4.1->qtconsole>=4.2.0->spyder) (4.6.0)\n",
      "Requirement already satisfied: backcall in /Users/yelu/anaconda3/lib/python3.7/site-packages (from ipython>=5.0.0->ipykernel>=4.1->qtconsole>=4.2.0->spyder) (0.1.0)\n",
      "Requirement already satisfied: prompt-toolkit<2.1.0,>=2.0.0 in /Users/yelu/anaconda3/lib/python3.7/site-packages (from ipython>=5.0.0->ipykernel>=4.1->qtconsole>=4.2.0->spyder) (2.0.9)\n",
      "Requirement already satisfied: appnope; sys_platform == \"darwin\" in /Users/yelu/anaconda3/lib/python3.7/site-packages (from ipython>=5.0.0->ipykernel>=4.1->qtconsole>=4.2.0->spyder) (0.1.0)\n",
      "Requirement already satisfied: attrs>=17.4.0 in /Users/yelu/anaconda3/lib/python3.7/site-packages (from jsonschema!=2.5.0,>=2.4->nbformat>=4.4->nbconvert->spyder) (19.1.0)\n",
      "Requirement already satisfied: pyrsistent>=0.14.0 in /Users/yelu/anaconda3/lib/python3.7/site-packages (from jsonschema!=2.5.0,>=2.4->nbformat>=4.4->nbconvert->spyder) (0.14.11)\n",
      "Requirement already satisfied: ptyprocess>=0.5 in /Users/yelu/anaconda3/lib/python3.7/site-packages (from pexpect; sys_platform != \"win32\"->ipython>=5.0.0->ipykernel>=4.1->qtconsole>=4.2.0->spyder) (0.6.0)\n",
      "Requirement already satisfied: wcwidth in /Users/yelu/anaconda3/lib/python3.7/site-packages (from prompt-toolkit<2.1.0,>=2.0.0->ipython>=5.0.0->ipykernel>=4.1->qtconsole>=4.2.0->spyder) (0.1.7)\n"
     ]
    }
   ],
   "source": [
    "!pip install spyder"
   ]
  },
  {
   "cell_type": "code",
   "execution_count": 199,
   "metadata": {},
   "outputs": [],
   "source": [
    "import gym\n",
    "import random\n",
    "import numpy as np\n",
    "import time\n",
    "from gym.envs.registration import register\n",
    "from IPython.display import clear_output"
   ]
  },
  {
   "cell_type": "code",
   "execution_count": 200,
   "metadata": {},
   "outputs": [
    {
     "name": "stdout",
     "output_type": "stream",
     "text": [
      "Observation space: Discrete(16)\n",
      "Action space: Discrete(4)\n"
     ]
    }
   ],
   "source": [
    "try:\n",
    "    register(\n",
    "    id='FrozenLakeNoSlip-v0',\n",
    "    entry_point='gym.envs.toy_text:FrozenLakeEnv',\n",
    "    kwargs={'map_name' : '4x4','is_slippery':False},\n",
    "    max_episode_steps=100,\n",
    "    reward_threshold=0.78, # optimum = .8196\n",
    "    )\n",
    "except:\n",
    "    pass\n",
    "\n",
    "#env_name = \"CartPole-v1\"\n",
    "#env_name = \"MountainCar-v0\"\n",
    "#env_name = \"MountainCarContinuous-v0\"\n",
    "#env_name = \"Acrobot-v1\"\n",
    "#env_name = \"Pendulum-v0\"\n",
    "env_name = \"FrozenLake-v0\"\n",
    "env_name = \"FrozenLakeNoSlip-v0\"\n",
    "\n",
    "env = gym.make(env_name)\n",
    "print(\"Observation space:\", env.observation_space)\n",
    "print(\"Action space:\", env.action_space)"
   ]
  },
  {
   "cell_type": "code",
   "execution_count": 201,
   "metadata": {},
   "outputs": [],
   "source": [
    "class Agent():\n",
    "    def __init__(self, env):\n",
    "        self.is_discrete = \\\n",
    "            type(env.action_space) == gym.spaces.discrete.Discrete\n",
    "        \n",
    "        if self.is_discrete:\n",
    "            self.action_size = env.action_space.n\n",
    "            print(\"Action size:\", self.action_size)\n",
    "        else:\n",
    "            self.action_low = env.action_space.low\n",
    "            self.action_high = env.action_space.high\n",
    "            self.action_shape = env.action_space.shape\n",
    "            print(\"Action range:\", self.action_low, self.action_high)\n",
    "        \n",
    "    def get_action(self, state):\n",
    "        if self.is_discrete:\n",
    "            action = random.choice(range(self.action_size))\n",
    "        else:\n",
    "            action = np.random.uniform(self.action_low,\n",
    "                                       self.action_high,\n",
    "                                       self.action_shape)\n",
    "        return action"
   ]
  },
  {
   "cell_type": "code",
   "execution_count": 202,
   "metadata": {},
   "outputs": [
    {
     "name": "stdout",
     "output_type": "stream",
     "text": [
      "Action size: 4\n",
      "State Size:  16\n"
     ]
    }
   ],
   "source": [
    "class QAgent(Agent):\n",
    "    def __init__(self, env, discount_rate = 0.97, learning_rate = 0.01):\n",
    "        super().__init__(env)\n",
    "        self.state_size = env.observation_space.n\n",
    "        print(\"State Size: \", self.state_size)\n",
    "        \n",
    "        self.discount_rate = discount_rate\n",
    "        self.learning_rate = learning_rate\n",
    "        self.eps=1.0\n",
    "        self.build_model()\n",
    "        \n",
    "    def build_model(self):\n",
    "        self.q_table = 1e-4*np.random.random([self.state_size, self.action_size])\n",
    "        \n",
    "    def get_action(self, state):\n",
    "        q_state = self.q_table[state]\n",
    "        action_greedy = np.argmax(q_state)\n",
    "        action_random = super().get_action(state) \n",
    "        return action_random if random.random() < self.eps else action_greedy\n",
    "    \n",
    "    def train(self, experience):\n",
    "        state, action, next_state, reward, done = experience\n",
    "        \n",
    "        q_next = self.q_table[next_state]\n",
    "        q_next = np.zeros(self.action_size) if done else q_next\n",
    "        q_target = reward + self.discount_rate * np.max(q_next)\n",
    "        \n",
    "        q_update = q_target - self.q_table[state, action]\n",
    "        self.q_table[state, action] += self.learning_rate * q_update\n",
    "        \n",
    "        if done:\n",
    "            self.eps = self.eps * 0.99\n",
    "              \n",
    "agent = QAgent(env)"
   ]
  },
  {
   "cell_type": "code",
   "execution_count": 210,
   "metadata": {},
   "outputs": [
    {
     "name": "stdout",
     "output_type": "stream",
     "text": [
      "state:  15 action:  2\n",
      "episode:99, total reward:100.0, eps:0.00032222236288023367\n",
      "  (Right)\n",
      "SFFF\n",
      "FHFH\n",
      "FFFH\n",
      "HFF\u001b[41mG\u001b[0m\n",
      "[[7.17136971e-05 3.48844837e-01 3.98840013e-05 2.19641934e-04]\n",
      " [2.81043388e-05 3.62371239e-05 5.41210065e-05 2.06779888e-05]\n",
      " [3.44146719e-05 2.04599566e-04 3.23112357e-05 6.94984123e-05]\n",
      " [4.73332497e-05 3.27353223e-05 4.39672660e-05 8.81381328e-05]\n",
      " [5.03165640e-05 5.15443674e-01 1.72967607e-06 5.03120753e-05]\n",
      " [6.60546523e-05 8.81917999e-05 8.24786758e-05 1.81502932e-05]\n",
      " [7.05672414e-06 2.48846193e-03 8.88428941e-05 4.52745170e-05]\n",
      " [6.93050729e-06 9.80075207e-05 9.46698634e-05 2.51809054e-05]\n",
      " [1.76544670e-04 4.28894920e-05 6.87701158e-01 5.05497923e-05]\n",
      " [6.58589393e-05 7.46085443e-05 8.34225056e-01 8.62988469e-05]\n",
      " [8.94274223e-05 9.35200961e-01 4.37068298e-05 4.56033355e-05]\n",
      " [2.99385895e-05 7.31629616e-05 3.54613408e-05 1.67414350e-05]\n",
      " [4.08362121e-05 7.93796597e-05 1.43597027e-05 2.99861779e-05]\n",
      " [4.41864844e-05 4.53833512e-05 4.17030033e-05 9.03726058e-05]\n",
      " [4.44527323e-05 6.05964249e-03 9.94176077e-01 2.29437157e-03]\n",
      " [7.44834058e-05 2.40102217e-05 7.16613993e-05 9.76990904e-05]]\n"
     ]
    }
   ],
   "source": [
    "total_reward = 0;\n",
    "for ep in range (100):\n",
    "    state = env.reset()\n",
    "    done = False\n",
    "    while not done:\n",
    "        action = agent.get_action(state)\n",
    "        next_state,reward,done,info=env.step(action)\n",
    "        agent.train((state,action,next_state,reward,done))\n",
    "        state = next_state\n",
    "        total_reward += reward\n",
    "        \n",
    "        print(\"state: \", state, \"action: \", action)\n",
    "        print(\"episode:{}, total reward:{}, eps:{}\".format(ep, total_reward, agent.eps))\n",
    "        env.render()\n",
    "        print(agent.q_table)\n",
    "        time.sleep(0.05)\n",
    "        clear_output(wait=True)"
   ]
  },
  {
   "cell_type": "code",
   "execution_count": null,
   "metadata": {},
   "outputs": [],
   "source": []
  },
  {
   "cell_type": "code",
   "execution_count": null,
   "metadata": {},
   "outputs": [],
   "source": []
  },
  {
   "cell_type": "code",
   "execution_count": null,
   "metadata": {},
   "outputs": [],
   "source": []
  },
  {
   "cell_type": "code",
   "execution_count": null,
   "metadata": {},
   "outputs": [],
   "source": []
  },
  {
   "cell_type": "code",
   "execution_count": null,
   "metadata": {},
   "outputs": [],
   "source": []
  },
  {
   "cell_type": "code",
   "execution_count": null,
   "metadata": {},
   "outputs": [],
   "source": []
  }
 ],
 "metadata": {
  "kernelspec": {
   "display_name": "Python 3",
   "language": "python",
   "name": "python3"
  },
  "language_info": {
   "codemirror_mode": {
    "name": "ipython",
    "version": 3
   },
   "file_extension": ".py",
   "mimetype": "text/x-python",
   "name": "python",
   "nbconvert_exporter": "python",
   "pygments_lexer": "ipython3",
   "version": "3.7.3"
  }
 },
 "nbformat": 4,
 "nbformat_minor": 2
}
